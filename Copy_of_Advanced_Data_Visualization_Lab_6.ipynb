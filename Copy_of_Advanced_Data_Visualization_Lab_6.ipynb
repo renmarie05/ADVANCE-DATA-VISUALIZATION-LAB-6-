{
  "nbformat": 4,
  "nbformat_minor": 0,
  "metadata": {
    "colab": {
      "provenance": [],
      "authorship_tag": "ABX9TyNhBB7p1Xhf09EFm/3MXVRD",
      "include_colab_link": true
    },
    "kernelspec": {
      "name": "python3",
      "display_name": "Python 3"
    },
    "language_info": {
      "name": "python"
    }
  },
  "cells": [
    {
      "cell_type": "markdown",
      "metadata": {
        "id": "view-in-github",
        "colab_type": "text"
      },
      "source": [
        "<a href=\"https://colab.research.google.com/github/renmarie05/ADVANCE-DATA-VISUALIZATION-LAB-6-/blob/main/Copy_of_Advanced_Data_Visualization_Lab_6.ipynb\" target=\"_parent\"><img src=\"https://colab.research.google.com/assets/colab-badge.svg\" alt=\"Open In Colab\"/></a>"
      ]
    },
    {
      "cell_type": "code",
      "source": [
        "print(\"Hello! Please enter your name:\")\n",
        "name = input()\n",
        "print(\"Enter your age:\")\n",
        "age = int(input())\n",
        "print(\"Enter your weight (in kg):\")\n",
        "weight = float(input())\n",
        "print(\"Enter your height (in cm):\")\n",
        "height = float(input())\n",
        "\n",
        "print(\"There are your inputs:\")\n",
        "print(name)\n",
        "print(age , \" years old\")\n",
        "print(height , \"cm\")\n",
        "print(weight , \"kg\")\n",
        "\n",
        "bmiCompute = weight / ((height/100) * (height/100))\n",
        "if(bmiCompute < 18.5):\n",
        "  print(\"BMI Diagnosis: Underweight\")\n",
        "elif(bmiCompute < 24.9):\n",
        "  print(\"BMI Diagnosis: Normal/Healthy\")\n",
        "elif(bmiCompute < 29.9):\n",
        "  print(\"BMI Diagnosis: Overweight\")\n",
        "elif(bmiCompute > 30):\n",
        "  print(\"BMI Diagnosis: Obese\")"
      ],
      "metadata": {
        "colab": {
          "base_uri": "https://localhost:8080/"
        },
        "id": "q5fl3yf5QkJ9",
        "outputId": "bc3614d8-2935-4034-d3b6-c2314b2351d0"
      },
      "execution_count": 2,
      "outputs": [
        {
          "output_type": "stream",
          "name": "stdout",
          "text": [
            "Hello! Please enter your name:\n",
            "ren\n",
            "Enter your age:\n",
            "43\n",
            "Enter your weight (in kg):\n",
            "56\n",
            "Enter your height (in cm):\n",
            "170\n",
            "There are your inputs:\n",
            "ren\n",
            "43  years old\n",
            "170.0 cm\n",
            "56.0 kg\n",
            "BMI Diagnosis: Normal/Healthy\n"
          ]
        }
      ]
    }
  ]
}